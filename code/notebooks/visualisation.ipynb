{
 "cells": [
  {
   "cell_type": "code",
   "execution_count": 4,
   "metadata": {},
   "outputs": [
    {
     "ename": "FileNotFoundError",
     "evalue": "[WinError 3] Le chemin d’accès spécifié est introuvable: '../scripts/DCGAN/'",
     "output_type": "error",
     "traceback": [
      "\u001b[1;31m---------------------------------------------------------------------------\u001b[0m",
      "\u001b[1;31mFileNotFoundError\u001b[0m                         Traceback (most recent call last)",
      "Cell \u001b[1;32mIn[4], line 2\u001b[0m\n\u001b[0;32m      1\u001b[0m \u001b[38;5;28;01mimport\u001b[39;00m \u001b[38;5;21;01mos\u001b[39;00m\n\u001b[1;32m----> 2\u001b[0m \u001b[43mos\u001b[49m\u001b[38;5;241;43m.\u001b[39;49m\u001b[43mchdir\u001b[49m\u001b[43m(\u001b[49m\u001b[38;5;124;43m\"\u001b[39;49m\u001b[38;5;124;43m../scripts/DCGAN/\u001b[39;49m\u001b[38;5;124;43m\"\u001b[39;49m\u001b[43m)\u001b[49m\n",
      "\u001b[1;31mFileNotFoundError\u001b[0m: [WinError 3] Le chemin d’accès spécifié est introuvable: '../scripts/DCGAN/'"
     ]
    }
   ],
   "source": [
    "import os\n",
    "os.chdir(\"../scripts/DCGAN/\")"
   ]
  },
  {
   "cell_type": "code",
   "execution_count": null,
   "metadata": {},
   "outputs": [],
   "source": [
    "import torch\n",
    "import torch.nn as nn\n",
    "from torchvision.datasets import MNIST\n",
    "from torchvision.transforms import ToTensor\n",
    "import matplotlib.pyplot as plt \n",
    "import numpy as np\n",
    "\n",
    "Tensor = torch.Tensor\n",
    "\n",
    "device = \"cuda\" if torch.cuda.is_available() else \"cpu\"\n",
    "# device = \"cpu\"\n"
   ]
  },
  {
   "cell_type": "code",
   "execution_count": null,
   "metadata": {},
   "outputs": [],
   "source": [
    "from dcgan_mnist import Discriminator"
   ]
  },
  {
   "cell_type": "code",
   "execution_count": null,
   "metadata": {},
   "outputs": [
    {
     "name": "stdout",
     "output_type": "stream",
     "text": [
      "<class 'dcgan_mnist.Discriminator'>\n"
     ]
    }
   ],
   "source": [
    "model = torch.load(\"../../models/MNIST/mnist-gan-discriminator.pt\")\n",
    "print(type(model))\n"
   ]
  },
  {
   "cell_type": "code",
   "execution_count": null,
   "metadata": {},
   "outputs": [
    {
     "ename": "NameError",
     "evalue": "name 'model' is not defined",
     "output_type": "error",
     "traceback": [
      "\u001b[1;31m---------------------------------------------------------------------------\u001b[0m",
      "\u001b[1;31mNameError\u001b[0m                                 Traceback (most recent call last)",
      "Cell \u001b[1;32mIn[3], line 39\u001b[0m\n\u001b[0;32m     33\u001b[0m             loss\u001b[38;5;241m.\u001b[39mbackward(retain_graph\u001b[38;5;241m=\u001b[39m\u001b[38;5;28;01mTrue\u001b[39;00m)\n\u001b[0;32m     35\u001b[0m             optimizer\u001b[38;5;241m.\u001b[39mstep()\n\u001b[1;32m---> 39\u001b[0m maximizer \u001b[38;5;241m=\u001b[39m ActivationMaximizer(\u001b[43mmodel\u001b[49m, (\u001b[38;5;241m1\u001b[39m, \u001b[38;5;241m28\u001b[39m, \u001b[38;5;241m28\u001b[39m))\n\u001b[0;32m     41\u001b[0m maximizer\u001b[38;5;241m.\u001b[39moptimize(model\u001b[38;5;241m.\u001b[39mmain[\u001b[38;5;241m6\u001b[39m], \u001b[38;5;124m\"\u001b[39m\u001b[38;5;124mlayer\u001b[39m\u001b[38;5;124m\"\u001b[39m)\n",
      "\u001b[1;31mNameError\u001b[0m: name 'model' is not defined"
     ]
    }
   ],
   "source": [
    "layer_out = None\n",
    "\n",
    "class ActivationMaximizer():\n",
    "    def __init__(self, model, input_shape) -> None:\n",
    "        super().__init__()\n",
    "\n",
    "        self.model = model\n",
    "        self.input_shape = input_shape\n",
    "\n",
    "        self.input = torch.nn.Parameter(torch.randn(input_shape), requires_grad=True)\n",
    "\n",
    "\n",
    "    def optimize(self, layer, objective_type: str, eta: float = 1e-3):\n",
    "\n",
    "        if objective_type == \"layer\":        \n",
    "            def hook(model, input, output):\n",
    "                global layer_out\n",
    "                layer_out = output\n",
    "\n",
    "            # layer\n",
    "\n",
    "            layer.register_forward_hook(hook)\n",
    "\n",
    "            optimizer = torch.optim.Adam([self.input], eta)            \n",
    "            loss_function = nn.MSELoss()\n",
    "\n",
    "\n",
    "            self.model.zero_grad()\n",
    "            \n",
    "            self.model.forward(self.input.to(device))\n",
    "\n",
    "            loss = torch.mean(layer_out**2)\n",
    "            loss.backward(retain_graph=True)\n",
    "\n",
    "            optimizer.step()\n",
    "            \n",
    "\n",
    "\n",
    "maximizer = ActivationMaximizer(model, (1, 28, 28))\n",
    "\n",
    "maximizer.optimize(model.main[6], \"layer\")"
   ]
  },
  {
   "cell_type": "code",
   "execution_count": null,
   "metadata": {},
   "outputs": [
    {
     "data": {
      "text/plain": [
       "tensor([[[[-1.8815e-01,  0.0000e+00,  3.4435e+00, -2.0813e-01],\n",
       "          [ 1.2659e+00,  0.0000e+00, -9.4305e-02, -8.1234e-02],\n",
       "          [ 5.9230e-01,  2.3038e+00, -0.0000e+00, -0.0000e+00],\n",
       "          [ 2.6008e+00,  0.0000e+00,  3.0334e+00,  1.3451e+00]],\n",
       "\n",
       "         [[-2.0590e-01, -1.9375e-01, -4.7867e-02,  0.0000e+00],\n",
       "          [-0.0000e+00, -2.4609e-01, -1.6652e-01, -0.0000e+00],\n",
       "          [-0.0000e+00, -1.3956e-01, -5.0548e-01, -6.4577e-02],\n",
       "          [-0.0000e+00,  8.9997e-01, -6.5358e-01,  1.1732e+00]],\n",
       "\n",
       "         [[-1.7389e-01,  6.7214e-01,  0.0000e+00, -7.7261e-02],\n",
       "          [ 2.6434e-01,  1.9557e+00,  4.1026e+00, -2.1658e-01],\n",
       "          [ 3.8731e-01, -3.0440e-01,  2.3511e+00,  1.4900e+00],\n",
       "          [-0.0000e+00,  1.1202e-01,  2.6654e+00,  1.1602e+00]],\n",
       "\n",
       "         ...,\n",
       "\n",
       "         [[ 6.0572e-01,  0.0000e+00,  1.5846e+00, -0.0000e+00],\n",
       "          [-9.1797e-01, -4.1741e-01, -9.6839e-02, -9.3595e-01],\n",
       "          [-3.7990e-01, -2.8987e-01, -8.3114e-01, -7.0518e-01],\n",
       "          [-7.2195e-01, -8.9255e-01, -1.1012e+00, -3.7895e-01]],\n",
       "\n",
       "         [[-0.0000e+00, -8.1778e-02, -3.2453e-01, -1.6478e-01],\n",
       "          [-6.9517e-01, -5.7033e-01, -7.7588e-01,  8.4073e-02],\n",
       "          [ 3.2195e-01,  1.3609e+00, -1.6696e-01,  1.7286e+00],\n",
       "          [-3.0863e-02, -0.0000e+00, -2.0420e-01, -3.4149e-01]],\n",
       "\n",
       "         [[ 2.2070e+00,  0.0000e+00,  3.7367e-03,  2.0009e+00],\n",
       "          [ 1.3770e+00,  0.0000e+00,  1.8557e+00,  1.3361e+00],\n",
       "          [ 1.1817e+00,  1.0385e+00,  4.4813e-01, -0.0000e+00],\n",
       "          [ 0.0000e+00, -8.3516e-03, -0.0000e+00, -0.0000e+00]]]],\n",
       "       device='cuda:0', grad_fn=<NativeDropoutBackward0>)"
      ]
     },
     "execution_count": 32,
     "metadata": {},
     "output_type": "execute_result"
    }
   ],
   "source": [
    "layer_out"
   ]
  },
  {
   "cell_type": "code",
   "execution_count": null,
   "metadata": {},
   "outputs": [
    {
     "data": {
      "text/plain": [
       "Conv2d(1, 64, kernel_size=(5, 5), stride=(2, 2), bias=False)"
      ]
     },
     "execution_count": 27,
     "metadata": {},
     "output_type": "execute_result"
    }
   ],
   "source": [
    "l = model.main[6]\n",
    "\n",
    "model.main[0]"
   ]
  },
  {
   "cell_type": "code",
   "execution_count": null,
   "metadata": {},
   "outputs": [],
   "source": []
  }
 ],
 "metadata": {
  "kernelspec": {
   "display_name": "venv",
   "language": "python",
   "name": "python3"
  },
  "language_info": {
   "codemirror_mode": {
    "name": "ipython",
    "version": 3
   },
   "file_extension": ".py",
   "mimetype": "text/x-python",
   "name": "python",
   "nbconvert_exporter": "python",
   "pygments_lexer": "ipython3",
   "version": "3.10.8"
  }
 },
 "nbformat": 4,
 "nbformat_minor": 2
}
